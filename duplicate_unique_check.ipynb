{
  "nbformat": 4,
  "nbformat_minor": 0,
  "metadata": {
    "colab": {
      "provenance": [],
      "mount_file_id": "1o6YIdCzfKk0vKNTdEe2VH7QFNxsT3C4i",
      "authorship_tag": "ABX9TyO88qPvU1GZQ2a/FEn/PVUP",
      "include_colab_link": true
    },
    "kernelspec": {
      "name": "python3",
      "display_name": "Python 3"
    },
    "language_info": {
      "name": "python"
    }
  },
  "cells": [
    {
      "cell_type": "markdown",
      "metadata": {
        "id": "view-in-github",
        "colab_type": "text"
      },
      "source": [
        "<a href=\"https://colab.research.google.com/github/AmanAryan007/Data_Science_intern/blob/main/duplicate_unique_check.ipynb\" target=\"_parent\"><img src=\"https://colab.research.google.com/assets/colab-badge.svg\" alt=\"Open In Colab\"/></a>"
      ]
    },
    {
      "cell_type": "code",
      "execution_count": 15,
      "metadata": {
        "id": "8s298gpgHSuv"
      },
      "outputs": [],
      "source": [
        "import pandas as pd\n",
        "import gc\n",
        "df = pd.read_excel(\"/content/drive/MyDrive/dataaaa/MASTER 2 - short.xlsx\")"
      ]
    },
    {
      "cell_type": "code",
      "source": [
        "# Remove duplicate values from Column1\n",
        "df_unique = df['PHONE'].drop_duplicates()\n",
        "\n",
        "print(\"DataFrame with Duplicate Values Removed:\")\n",
        "print(df_unique)\n"
      ],
      "metadata": {
        "colab": {
          "base_uri": "https://localhost:8080/"
        },
        "id": "hYL9xqVzO5yo",
        "outputId": "2e4d43d0-aa4f-41fa-cf99-089f15cd4b3e"
      },
      "execution_count": 16,
      "outputs": [
        {
          "output_type": "stream",
          "name": "stdout",
          "text": [
            "DataFrame with Duplicate Values Removed:\n",
            "0          9162470038\n",
            "1          4798563481\n",
            "2          7606417114\n",
            "3          7245135985\n",
            "4          6142863855\n",
            "             ...     \n",
            "229180     9037772619\n",
            "229181     6602882006\n",
            "229182     9792331212\n",
            "229183     3176541817\n",
            "229184    760-5034182\n",
            "Name: PHONE, Length: 229178, dtype: object\n"
          ]
        }
      ]
    },
    {
      "cell_type": "code",
      "source": [
        "df['UniqueValues'] = df_unique"
      ],
      "metadata": {
        "id": "_TWyy_YtPisB"
      },
      "execution_count": 17,
      "outputs": []
    },
    {
      "cell_type": "code",
      "source": [
        "df.columns"
      ],
      "metadata": {
        "colab": {
          "base_uri": "https://localhost:8080/"
        },
        "id": "1WKz9xR7TR4d",
        "outputId": "b6489133-20c1-4e53-fc9a-02bcfd7d2b4b"
      },
      "execution_count": 18,
      "outputs": [
        {
          "output_type": "execute_result",
          "data": {
            "text/plain": [
              "Index(['PHONE', 'PHONE.1', 'PHONE.2', 'PHONE.3', 'PHONE.4', 'PHONE.5',\n",
              "       'UniqueValues'],\n",
              "      dtype='object')"
            ]
          },
          "metadata": {},
          "execution_count": 18
        }
      ]
    },
    {
      "cell_type": "code",
      "source": [
        "# Combine the values from both columns\n",
        "combined_values = pd.concat([df['UniqueValues'], df['PHONE.4']])\n",
        "\n",
        "# Count the occurrences of each value\n",
        "duplicate_counts = combined_values.value_counts()\n",
        "\n",
        "# Exclude self-matching duplicates\n",
        "duplicate_counts = duplicate_counts[duplicate_counts > 1]\n",
        "\n",
        "print(\"Duplicate Counts:\")\n",
        "print(duplicate_counts)\n",
        "\n"
      ],
      "metadata": {
        "colab": {
          "base_uri": "https://localhost:8080/"
        },
        "id": "1OQNLZcFEks_",
        "outputId": "f8d70ad5-d558-43bf-a59c-75480dc7dc32"
      },
      "execution_count": 28,
      "outputs": [
        {
          "output_type": "stream",
          "name": "stdout",
          "text": [
            "Duplicate Counts:\n",
            "8592704992    3\n",
            "3522075499    3\n",
            "9175197020    3\n",
            "9099273834    3\n",
            "6104822417    3\n",
            "             ..\n",
            "3524253317    2\n",
            "9722677661    2\n",
            "7793480231    2\n",
            "4242151796    2\n",
            "3137595221    2\n",
            "Length: 13704, dtype: int64\n"
          ]
        }
      ]
    },
    {
      "cell_type": "markdown",
      "source": [
        "UNIQUE VALUE------"
      ],
      "metadata": {
        "id": "Ka9-alLNjeME"
      }
    },
    {
      "cell_type": "code",
      "source": [
        "# Find the unique values in 'Column2' compared to 'Column1'\n",
        "unique_values3 = df.loc[~df['UniqueValues'].isin(df['PHONE.1']), 'UniqueValues'].unique()\n",
        "\n",
        "print(\"Unique Values in 'Column2' compared to 'Column1':\")\n",
        "print(unique_values3)"
      ],
      "metadata": {
        "colab": {
          "base_uri": "https://localhost:8080/"
        },
        "id": "gnlwEmNIdELO",
        "outputId": "8d01a200-d16f-41b8-b0d8-af5e70db9c15"
      },
      "execution_count": 23,
      "outputs": [
        {
          "output_type": "stream",
          "name": "stdout",
          "text": [
            "Unique Values in 'Column2' compared to 'Column1':\n",
            "[9162470038 4798563481 7606417114 ... 9792331212 3176541817 '760-5034182']\n"
          ]
        }
      ]
    },
    {
      "cell_type": "code",
      "source": [
        "new_df = pd.DataFrame({'PHONE': unique_values3})"
      ],
      "metadata": {
        "id": "Y2kamSihdpkU"
      },
      "execution_count": 24,
      "outputs": []
    },
    {
      "cell_type": "code",
      "source": [
        "new_df.to_csv('UNIQUE_PHONE.csv', index=False)\n",
        "\n",
        "print(\"New DataFrame saved as 'unique_values_column2.csv'\")"
      ],
      "metadata": {
        "colab": {
          "base_uri": "https://localhost:8080/"
        },
        "id": "MkRTcqOPd-bm",
        "outputId": "ad06b0e2-62a6-411c-e4e7-42f6a334b157"
      },
      "execution_count": 26,
      "outputs": [
        {
          "output_type": "stream",
          "name": "stdout",
          "text": [
            "New DataFrame saved as 'unique_values_column2.csv'\n"
          ]
        }
      ]
    }
  ]
}