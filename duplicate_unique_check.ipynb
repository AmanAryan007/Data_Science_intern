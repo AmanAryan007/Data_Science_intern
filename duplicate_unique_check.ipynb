{
  "nbformat": 4,
  "nbformat_minor": 0,
  "metadata": {
    "colab": {
      "provenance": [],
      "mount_file_id": "1o6YIdCzfKk0vKNTdEe2VH7QFNxsT3C4i",
      "authorship_tag": "ABX9TyO88qPvU1GZQ2a/FEn/PVUP",
      "include_colab_link": true
    },
    "kernelspec": {
      "name": "python3",
      "display_name": "Python 3"
    },
    "language_info": {
      "name": "python"
    }
  },
  "cells": [
    {
      "cell_type": "markdown",
      "metadata": {
        "id": "view-in-github",
        "colab_type": "text"
      },
      "source": [
        "<a href=\"https://colab.research.google.com/github/AmanAryan007/Data_Science_intern/blob/main/duplicate_unique_check.ipynb\" target=\"_parent\"><img src=\"https://colab.research.google.com/assets/colab-badge.svg\" alt=\"Open In Colab\"/></a>"
      ]
    },
    {
      "cell_type": "code",
      "execution_count": 15,
      "metadata": {
        "id": "8s298gpgHSuv"
      },
      "outputs": [],
      "source": [
        "import pandas as pd\n",
        "import gc\n",
        "df = pd.read_excel(\"/content/drive/MyDrive/dataaaa/MASTER 2 - short.xlsx\")"
      ]
    },
    {
      "cell_type": "code",
      "source": [
        "# Remove duplicate values from Column1\n",
        "df_unique = df['PHONE'].drop_duplicates()\n",
        "\n",
        "print(\"DataFrame with Duplicate Values Removed:\")\n",
        "print(df_unique)\n"
      ],
      "metadata": {
        "id": "hYL9xqVzO5yo"
      },
      "execution_count": null,
      "outputs": []
    },
    {
      "cell_type": "code",
      "source": [
        "df['UniqueValues'] = df_unique"
      ],
      "metadata": {
        "id": "_TWyy_YtPisB"
      },
      "execution_count": 17,
      "outputs": []
    },
    {
      "cell_type": "code",
      "source": [
        "df.columns"
      ],
      "metadata": {
        "id": "1WKz9xR7TR4d"
      },
      "execution_count": null,
      "outputs": []
    },
    {
      "cell_type": "code",
      "source": [
        "# Combine the values from both columns\n",
        "combined_values = pd.concat([df['UniqueValues'], df['PHONE.4']])\n",
        "\n",
        "# Count the occurrences of each value\n",
        "duplicate_counts = combined_values.value_counts()\n",
        "\n",
        "# Exclude self-matching duplicates\n",
        "duplicate_counts = duplicate_counts[duplicate_counts > 1]\n",
        "\n",
        "print(\"Duplicate Counts:\")\n",
        "print(duplicate_counts)\n",
        "\n"
      ],
      "metadata": {
        "id": "1OQNLZcFEks_"
      },
      "execution_count": null,
      "outputs": []
    },
    {
      "cell_type": "markdown",
      "source": [
        "UNIQUE VALUE------"
      ],
      "metadata": {
        "id": "Ka9-alLNjeME"
      }
    },
    {
      "cell_type": "code",
      "source": [
        "# Find the unique values in 'Column2' compared to 'Column1'\n",
        "unique_values3 = df.loc[~df['UniqueValues'].isin(df['PHONE.1']), 'UniqueValues'].unique()\n",
        "\n",
        "print(\"Unique Values in 'Column2' compared to 'Column1':\")\n",
        "print(unique_values3)"
      ],
      "metadata": {
        "id": "gnlwEmNIdELO"
      },
      "execution_count": null,
      "outputs": []
    },
    {
      "cell_type": "code",
      "source": [
        "new_df = pd.DataFrame({'PHONE': unique_values3})"
      ],
      "metadata": {
        "id": "Y2kamSihdpkU"
      },
      "execution_count": 24,
      "outputs": []
    },
    {
      "cell_type": "code",
      "source": [
        "new_df.to_csv('UNIQUE_PHONE.csv', index=False)\n",
        "\n",
        "print(\"New DataFrame saved as 'unique_values_column2.csv'\")"
      ],
      "metadata": {
        "colab": {
          "base_uri": "https://localhost:8080/"
        },
        "id": "MkRTcqOPd-bm",
        "outputId": "ad06b0e2-62a6-411c-e4e7-42f6a334b157"
      },
      "execution_count": 26,
      "outputs": [
        {
          "output_type": "stream",
          "name": "stdout",
          "text": [
            "New DataFrame saved as 'unique_values_column2.csv'\n"
          ]
        }
      ]
    }
  ]
}